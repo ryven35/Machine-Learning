{
  "nbformat": 4,
  "nbformat_minor": 0,
  "metadata": {
    "colab": {
      "provenance": []
    },
    "kernelspec": {
      "name": "python3",
      "display_name": "Python 3"
    },
    "language_info": {
      "name": "python"
    }
  },
  "cells": [
    {
      "cell_type": "code",
      "source": [
        "import torch"
      ],
      "metadata": {
        "id": "RI8iq2MM-zpL"
      },
      "execution_count": null,
      "outputs": []
    },
    {
      "cell_type": "code",
      "source": [
        "w = 0.3\n",
        "b = 0.9\n",
        "\n",
        "start = 0\n",
        "end = 20\n",
        "step = 0.2\n",
        "\n",
        "X = torch.arange(start, end, step).unsqueeze(dim=1)       #the unsqueeze is used to add the dimension to the X making it a column vector where each row hold a single feature\n",
        "y = w * X + b"
      ],
      "metadata": {
        "id": "Btmrh2cC529J"
      },
      "execution_count": null,
      "outputs": []
    },
    {
      "cell_type": "code",
      "source": [
        "X.shape"
      ],
      "metadata": {
        "colab": {
          "base_uri": "https://localhost:8080/"
        },
        "id": "XLGA2tfc_wkh",
        "outputId": "9041b9db-b92b-416b-9635-7405227513c6"
      },
      "execution_count": null,
      "outputs": [
        {
          "output_type": "execute_result",
          "data": {
            "text/plain": [
              "torch.Size([100, 1])"
            ]
          },
          "metadata": {},
          "execution_count": 4
        }
      ]
    },
    {
      "cell_type": "code",
      "source": [
        "X[:10], y[:10]"
      ],
      "metadata": {
        "colab": {
          "base_uri": "https://localhost:8080/"
        },
        "id": "3ONoFhw5_7i2",
        "outputId": "5d5213aa-f531-466a-bf63-eb51026e1955"
      },
      "execution_count": null,
      "outputs": [
        {
          "output_type": "execute_result",
          "data": {
            "text/plain": [
              "(tensor([[0.0000],\n",
              "         [0.2000],\n",
              "         [0.4000],\n",
              "         [0.6000],\n",
              "         [0.8000],\n",
              "         [1.0000],\n",
              "         [1.2000],\n",
              "         [1.4000],\n",
              "         [1.6000],\n",
              "         [1.8000]]),\n",
              " tensor([[0.9000],\n",
              "         [0.9600],\n",
              "         [1.0200],\n",
              "         [1.0800],\n",
              "         [1.1400],\n",
              "         [1.2000],\n",
              "         [1.2600],\n",
              "         [1.3200],\n",
              "         [1.3800],\n",
              "         [1.4400]]))"
            ]
          },
          "metadata": {},
          "execution_count": 5
        }
      ]
    },
    {
      "cell_type": "code",
      "source": [
        "#Spliting the data into training and testing (80% and 20%)"
      ],
      "metadata": {
        "id": "nY99X50dBPbW"
      },
      "execution_count": null,
      "outputs": []
    },
    {
      "cell_type": "code",
      "source": [
        "train_split = int(0.8 * len(X))\n",
        "train_split"
      ],
      "metadata": {
        "colab": {
          "base_uri": "https://localhost:8080/"
        },
        "id": "e7fvQPsdBZTx",
        "outputId": "ee066af7-35fc-4669-a697-dc2502bb9285"
      },
      "execution_count": null,
      "outputs": [
        {
          "output_type": "execute_result",
          "data": {
            "text/plain": [
              "80"
            ]
          },
          "metadata": {},
          "execution_count": 7
        }
      ]
    },
    {
      "cell_type": "code",
      "source": [
        "X_train, y_train = X[:train_split], y[:train_split]\n",
        "X_test, y_test = X[train_split:], y[train_split:]\n",
        "len(X_train), len(y_train), len(X_test), len(y_test)"
      ],
      "metadata": {
        "colab": {
          "base_uri": "https://localhost:8080/"
        },
        "id": "0CEakBlpBsYc",
        "outputId": "8e7cbe4e-ebfa-46fd-be0d-d7a5efcf8594"
      },
      "execution_count": null,
      "outputs": [
        {
          "output_type": "execute_result",
          "data": {
            "text/plain": [
              "(80, 80, 20, 20)"
            ]
          },
          "metadata": {},
          "execution_count": 8
        }
      ]
    },
    {
      "cell_type": "code",
      "source": [
        "#Q3 plotting the train_test data plot for visual"
      ],
      "metadata": {
        "id": "UrsP6tJyBtUA"
      },
      "execution_count": null,
      "outputs": []
    },
    {
      "cell_type": "code",
      "source": [
        "import matplotlib.pyplot as plt"
      ],
      "metadata": {
        "id": "kxh6MeDgCYGK"
      },
      "execution_count": null,
      "outputs": []
    },
    {
      "cell_type": "code",
      "source": [
        "plt.scatter(X_train.numpy(), y_train.numpy(), color = 'blue', label = 'Train Data')\n",
        "plt.scatter(X_test.numpy(), y_test.numpy(), color='red', label='Test Data')\n",
        "plt.xlabel(\"X Values\")\n",
        "plt.ylabel(\"Y Values\")\n",
        "plt.legend()\n",
        "plt.show()"
      ],
      "metadata": {
        "colab": {
          "base_uri": "https://localhost:8080/",
          "height": 449
        },
        "id": "L5qdxZR7Cr2h",
        "outputId": "1ea5fe72-793c-4f7c-f744-7ff09ca37ba7"
      },
      "execution_count": null,
      "outputs": [
        {
          "output_type": "display_data",
          "data": {
            "text/plain": [
              "<Figure size 640x480 with 1 Axes>"
            ],
            "image/png": "[encoded data removed]"
          },
          "metadata": {}
        }
      ]
    },
    {
      "cell_type": "code",
      "source": [],
      "metadata": {
        "id": "XtIxjwUDDP4p"
      },
      "execution_count": null,
      "outputs": []
    },
    {
      "cell_type": "code",
      "source": [
        "from torch import nn"
      ],
      "metadata": {
        "id": "56y2tOvlsFy9"
      },
      "execution_count": null,
      "outputs": []
    },
    {
      "cell_type": "code",
      "source": [
        "class LinearRegression(nn.Module):\n",
        "  def __init__(self):\n",
        "    super().__init__()\n",
        "    self.weight = nn.Parameter(torch.rand(1, dtype=torch.float, requires_grad=True))\n",
        "    self.bias = nn.Parameter(torch.rand(1, dtype=torch.float, requires_grad=True))\n",
        "\n",
        "  def forward(self, x: torch.Tensor) -> torch.Tensor:\n",
        "    return self.weight * x + self.bias"
      ],
      "metadata": {
        "id": "xwiRmPLWr33S"
      },
      "execution_count": null,
      "outputs": []
    },
    {
      "cell_type": "code",
      "source": [
        "torch.manual_seed(43)\n",
        "model = LinearRegression()"
      ],
      "metadata": {
        "id": "g-DJ6mxauwoS"
      },
      "execution_count": null,
      "outputs": []
    },
    {
      "cell_type": "code",
      "source": [
        "list(model.parameters())"
      ],
      "metadata": {
        "colab": {
          "base_uri": "https://localhost:8080/"
        },
        "id": "jP-t8UwBu0i8",
        "outputId": "e2da7671-0632-422e-ff0c-f3f52e782dae"
      },
      "execution_count": null,
      "outputs": [
        {
          "output_type": "execute_result",
          "data": {
            "text/plain": [
              "[Parameter containing:\n",
              " tensor([0.4540], requires_grad=True),\n",
              " Parameter containing:\n",
              " tensor([0.1965], requires_grad=True)]"
            ]
          },
          "metadata": {},
          "execution_count": 15
        }
      ]
    },
    {
      "cell_type": "code",
      "source": [
        "model.state_dict()"
      ],
      "metadata": {
        "colab": {
          "base_uri": "https://localhost:8080/"
        },
        "id": "th8AxhQ4vS15",
        "outputId": "21ce3320-e588-4218-d36d-e812d331ff03"
      },
      "execution_count": null,
      "outputs": [
        {
          "output_type": "execute_result",
          "data": {
            "text/plain": [
              "OrderedDict([('weight', tensor([0.4540])), ('bias', tensor([0.1965]))])"
            ]
          },
          "metadata": {},
          "execution_count": 16
        }
      ]
    },
    {
      "cell_type": "code",
      "source": [
        "loss_fn = nn.L1Loss()\n",
        "optimizer = torch.optim.SGD(params = model.parameters(), lr=0.001)"
      ],
      "metadata": {
        "id": "d1_UwRaY5zAe"
      },
      "execution_count": null,
      "outputs": []
    },
    {
      "cell_type": "code",
      "source": [
        "torch.manual_seed(43)\n",
        "epochs = 300\n",
        "\n",
        "train_loss_values=[]\n",
        "test_loss_values=[]\n",
        "epoch_count=[]\n",
        "\n",
        "for epoch in range(epochs):\n",
        "  model.train()\n",
        "\n",
        "  y_pred = model(X_train)\n",
        "  loss = loss_fn(y_pred, y_train)\n",
        "  optimizer.zero_grad()\n",
        "  loss.backward()\n",
        "  optimizer.step()\n",
        "\n",
        "  model.eval()\n",
        "  with torch.inference_mode():\n",
        "    test_pred = model(X_test)\n",
        "    test_loss = loss_fn(test_pred, y_test.type(torch.float))\n",
        "\n",
        "    if epoch % 20 == 0 :\n",
        "      epoch_count.append(epoch)\n",
        "      train_loss_values.append(loss.detach().numpy())\n",
        "      test_loss_values.append(test_loss.detach().numpy())\n",
        "      print(f\"Epoch: {epoch} | MAE Train Loss : {loss} | MAE Test Loss : {test_loss}\")"
      ],
      "metadata": {
        "colab": {
          "base_uri": "https://localhost:8080/"
        },
        "id": "Ny2yXfie6soL",
        "outputId": "783b4496-b9e9-4b4b-ed8e-71da15d4c0de"
      },
      "execution_count": null,
      "outputs": [
        {
          "output_type": "stream",
          "name": "stdout",
          "text": [
            "Epoch: 0 | MAE Train Loss : 0.7225882411003113 | MAE Test Loss : 1.9333314895629883\n",
            "Epoch: 20 | MAE Train Loss : 0.2970018982887268 | MAE Test Loss : 0.48049283027648926\n",
            "Epoch: 40 | MAE Train Loss : 0.2912765145301819 | MAE Test Loss : 0.4176073968410492\n",
            "Epoch: 60 | MAE Train Loss : 0.2878090441226959 | MAE Test Loss : 0.40941181778907776\n",
            "Epoch: 80 | MAE Train Loss : 0.28435689210891724 | MAE Test Loss : 0.4062528610229492\n",
            "Epoch: 100 | MAE Train Loss : 0.28088054060935974 | MAE Test Loss : 0.4030943810939789\n",
            "Epoch: 120 | MAE Train Loss : 0.27741894125938416 | MAE Test Loss : 0.39489883184432983\n",
            "Epoch: 140 | MAE Train Loss : 0.27396106719970703 | MAE Test Loss : 0.3917399048805237\n",
            "Epoch: 160 | MAE Train Loss : 0.27048465609550476 | MAE Test Loss : 0.38858145475387573\n",
            "Epoch: 180 | MAE Train Loss : 0.2670287489891052 | MAE Test Loss : 0.3803858458995819\n",
            "Epoch: 200 | MAE Train Loss : 0.26356497406959534 | MAE Test Loss : 0.37722742557525635\n",
            "Epoch: 220 | MAE Train Loss : 0.26008862257003784 | MAE Test Loss : 0.3740684688091278\n",
            "Epoch: 240 | MAE Train Loss : 0.25663840770721436 | MAE Test Loss : 0.36587339639663696\n",
            "Epoch: 260 | MAE Train Loss : 0.25316891074180603 | MAE Test Loss : 0.36271458864212036\n",
            "Epoch: 280 | MAE Train Loss : 0.24969618022441864 | MAE Test Loss : 0.3545192778110504\n"
          ]
        }
      ]
    },
    {
      "cell_type": "code",
      "source": [
        "#visualizing what have we actually done:"
      ],
      "metadata": {
        "id": "f-vrJZ0g9XyV"
      },
      "execution_count": null,
      "outputs": []
    },
    {
      "cell_type": "code",
      "source": [
        "plt.plot(epoch_count, train_loss_values, label=\"Train Loss\")\n",
        "plt.plot(epoch_count, test_loss_values, label=\"Test Loss\")\n",
        "plt.title(\"Training and test loss curves\")\n",
        "plt.ylabel(\"Loss\")\n",
        "plt.xlabel(\"Epochs\")\n",
        "plt.legend();"
      ],
      "metadata": {
        "colab": {
          "base_uri": "https://localhost:8080/",
          "height": 472
        },
        "id": "Sn09OaN39kbI",
        "outputId": "a49a49b9-d83d-4cb8-abf0-3c4c5fa59341"
      },
      "execution_count": null,
      "outputs": [
        {
          "output_type": "display_data",
          "data": {
            "text/plain": [
              "<Figure size 640x480 with 1 Axes>"
            ],
            "image/png": "[encoded data removed]"
          },
          "metadata": {}
        }
      ]
    },
    {
      "cell_type": "code",
      "source": [
        "print(f\"The model learned the following values for weight and bias:\\n\")\n",
        "print(f\"{model.state_dict()}\\n\")\n",
        "print(f\"and the original value was \\n Weight:{w} and Bias:{b}\")"
      ],
      "metadata": {
        "colab": {
          "base_uri": "https://localhost:8080/"
        },
        "id": "nzV8r_6N-G0P",
        "outputId": "4d9fe646-529d-442e-b947-5f43cbcc4a37"
      },
      "execution_count": null,
      "outputs": [
        {
          "output_type": "stream",
          "name": "stdout",
          "text": [
            "The model learned the following values for weight and bias:\n",
            "\n",
            "OrderedDict([('weight', tensor([0.3527])), ('bias', tensor([0.3107]))])\n",
            "\n",
            "and the original value was \n",
            " Weight:0.3 and Bias:0.9\n"
          ]
        }
      ]
    },
    {
      "cell_type": "code",
      "source": [
        "model.eval()\n",
        "with torch.inference_mode():\n",
        "  y_preds = model(X_test)"
      ],
      "metadata": {
        "id": "VDYbg04UAQb1"
      },
      "execution_count": null,
      "outputs": []
    },
    {
      "cell_type": "code",
      "source": [
        "y_preds"
      ],
      "metadata": {
        "colab": {
          "base_uri": "https://localhost:8080/"
        },
        "id": "tKOz9SucArDy",
        "outputId": "9b171129-7e4c-4e6e-f349-fcab8d5d955e"
      },
      "execution_count": null,
      "outputs": [
        {
          "output_type": "execute_result",
          "data": {
            "text/plain": [
              "tensor([[5.9544],\n",
              "        [6.0249],\n",
              "        [6.0955],\n",
              "        [6.1660],\n",
              "        [6.2365],\n",
              "        [6.3071],\n",
              "        [6.3776],\n",
              "        [6.4482],\n",
              "        [6.5187],\n",
              "        [6.5893],\n",
              "        [6.6598],\n",
              "        [6.7304],\n",
              "        [6.8009],\n",
              "        [6.8714],\n",
              "        [6.9420],\n",
              "        [7.0125],\n",
              "        [7.0831],\n",
              "        [7.1536],\n",
              "        [7.2242],\n",
              "        [7.2947]])"
            ]
          },
          "metadata": {},
          "execution_count": 23
        }
      ]
    },
    {
      "cell_type": "code",
      "source": [
        "plt.scatter(X_train, y_train, color=\"blue\", label=\"Train\")\n",
        "plt.scatter(X_test, y_test, color=\"green\", label=\"Test\")"
      ],
      "metadata": {
        "colab": {
          "base_uri": "https://localhost:8080/",
          "height": 449
        },
        "id": "xwxRs-b4Ar5Z",
        "outputId": "8ce7e1fc-1a12-4a35-fa9c-51fe39573ec8"
      },
      "execution_count": null,
      "outputs": [
        {
          "output_type": "execute_result",
          "data": {
            "text/plain": [
              "<matplotlib.collections.PathCollection at 0x7d5b8864d610>"
            ]
          },
          "metadata": {},
          "execution_count": 24
        },
        {
          "output_type": "display_data",
          "data": {
            "text/plain": [
              "<Figure size 640x480 with 1 Axes>"
            ],
            "image/png": "[encoded data removed]"
          },
          "metadata": {}
        }
      ]
    },
    {
      "cell_type": "code",
      "source": [
        "from pathlib import Path"
      ],
      "metadata": {
        "id": "coFBnWBtBIXs"
      },
      "execution_count": null,
      "outputs": []
    },
    {
      "cell_type": "code",
      "source": [
        "MODEL_PATH = Path(\"models\")\n",
        "MODEL_PATH.mkdir(parents=True, exist_ok=True)\n",
        "\n",
        "MODEL_NAME = \"PyTorch Workflow.pth\"\n",
        "MODEL_SAVE_PATH = MODEL_PATH / MODEL_NAME\n",
        "\n",
        "print(f\"Saving the model to: {MODEL_SAVE_PATH}\")\n",
        "torch.save(obj=model.state_dict(),\n",
        "           f=MODEL_SAVE_PATH)"
      ],
      "metadata": {
        "colab": {
          "base_uri": "https://localhost:8080/"
        },
        "id": "Rmd9SE5yLnJ3",
        "outputId": "32a914c1-faa1-4a04-ca3f-244f187109fc"
      },
      "execution_count": null,
      "outputs": [
        {
          "output_type": "stream",
          "name": "stdout",
          "text": [
            "Saving the model to: models/PyTorch Workflow.pth\n"
          ]
        }
      ]
    },
    {
      "cell_type": "code",
      "source": [
        "loaded_model = LinearRegression()\n",
        "loaded_model.load_state_dict(torch.load(MODEL_SAVE_PATH))\n",
        "print(f\"loaded Model : {loaded_model}\")"
      ],
      "metadata": {
        "colab": {
          "base_uri": "https://localhost:8080/"
        },
        "id": "ZIsvwD93MlW1",
        "outputId": "bd809603-e6ad-4389-b056-1c0a0adf4b0b"
      },
      "execution_count": null,
      "outputs": [
        {
          "output_type": "stream",
          "name": "stdout",
          "text": [
            "loaded Model : LinearRegression()\n"
          ]
        }
      ]
    },
    {
      "cell_type": "code",
      "source": [
        "loaded_model.eval()\n",
        "with torch.inference_mode():\n",
        "  loaded_model_preds = loaded_model(X_test)\n",
        "y_preds == loaded_model_preds"
      ],
      "metadata": {
        "colab": {
          "base_uri": "https://localhost:8080/"
        },
        "id": "7bvtAxxcNa1F",
        "outputId": "d21f45a9-879a-496e-fc15-b390e4f5d514"
      },
      "execution_count": null,
      "outputs": [
        {
          "output_type": "execute_result",
          "data": {
            "text/plain": [
              "tensor([[True],\n",
              "        [True],\n",
              "        [True],\n",
              "        [True],\n",
              "        [True],\n",
              "        [True],\n",
              "        [True],\n",
              "        [True],\n",
              "        [True],\n",
              "        [True],\n",
              "        [True],\n",
              "        [True],\n",
              "        [True],\n",
              "        [True],\n",
              "        [True],\n",
              "        [True],\n",
              "        [True],\n",
              "        [True],\n",
              "        [True],\n",
              "        [True]])"
            ]
          },
          "metadata": {},
          "execution_count": 30
        }
      ]
    },
    {
      "cell_type": "code",
      "source": [],
      "metadata": {
        "id": "_VPknrtwNk9G"
      },
      "execution_count": null,
      "outputs": []
    }
  ]
}
{
 "cells": [
  {
   "cell_type": "code",
   "execution_count": 1,
   "id": "fc2854bf-3b54-4e35-bad5-3446cc3aed24",
   "metadata": {},
   "outputs": [],
   "source": [
    "#language model"
   ]
  },
  {
   "cell_type": "code",
   "execution_count": 2,
   "id": "437ccb21-4eb6-42d8-a6f5-e21ada81cab3",
   "metadata": {},
   "outputs": [],
   "source": [
    "from collections import defaultdict"
   ]
  },
  {
   "cell_type": "code",
   "execution_count": 6,
   "id": "c23f0a85-9c6e-4674-a3d4-f44acef7aba0",
   "metadata": {},
   "outputs": [],
   "source": [
    "training_data = [\n",
    "    \"the cat sat on the mat\",\n",
    "    \"the dog barked at the cat\",\n",
    "    \"the bird sang a song\",\n",
    "    \"the cat chased the mouse\",\n",
    "    \"the dog and the bird played together\"\n",
    "]"
   ]
  },
  {
   "cell_type": "code",
   "execution_count": 12,
   "id": "be081026-505a-4fc0-8256-a5122b332574",
   "metadata": {},
   "outputs": [],
   "source": [
    "#bigram_count\n",
    "def train_model(training_data):\n",
    "    bigram_counts = defaultdict(lambda: defaultdict(int))\n",
    "    for sentence in training_data:\n",
    "        words = sentence.split()\n",
    "        for i in range(1, len(words)):\n",
    "            prev = words[i-1]\n",
    "            curr = words[i]\n",
    "            bigram_counts[prev][curr] += 1\n",
    "\n",
    "#bigram prob\n",
    "    bigram_probs = defaultdict(dict)\n",
    "    for prev in bigram_counts:\n",
    "        total = sum(bigram_counts[prev].values())\n",
    "        for curr in bigram_counts[prev]:\n",
    "            bigram_probs[prev][curr] = bigram_counts[prev][curr] / total\n",
    "    return bigram_probs\n",
    "\n",
    "# Example: compute probability of a sequence\n",
    "def sequence_probability(sentence, bigram_probs):\n",
    "    words = sentence.split()\n",
    "    prob  = 1.0\n",
    "    for i in range(1, len(words)):\n",
    "        prev = words[i-1]\n",
    "        curr = words[i]\n",
    "        prob *= bigram_probs.get(prev, {}).get(curr, 0.0)\n",
    "    return prob"
   ]
  },
  {
   "cell_type": "code",
   "execution_count": 13,
   "id": "070af4f5-bd5c-4b62-af32-397497069f9b",
   "metadata": {},
   "outputs": [],
   "source": [
    "#training the model\n",
    "bigram_probs = train_model(training_data)"
   ]
  },
  {
   "cell_type": "code",
   "execution_count": 17,
   "id": "9f01bcb0-7de8-448b-bc74-f6fb16d0a977",
   "metadata": {},
   "outputs": [
    {
     "name": "stdout",
     "output_type": "stream",
     "text": [
      "Probability of the dog and the cat : 0.037037037037037035\n"
     ]
    }
   ],
   "source": [
    "#Example:\n",
    "test_sentence = \"the dog and the cat\"\n",
    "print(f\"Probability of {test_sentence} : {sequence_probability(test_sentence, bigram_probs)}\")"
   ]
  },
  {
   "cell_type": "code",
   "execution_count": null,
   "id": "f6eea277-f1a7-4854-a122-3ee6258cbc79",
   "metadata": {},
   "outputs": [],
   "source": []
  }
 ],
 "metadata": {
  "kernelspec": {
   "display_name": "Python 3 (ipykernel)",
   "language": "python",
   "name": "python3"
  },
  "language_info": {
   "codemirror_mode": {
    "name": "ipython",
    "version": 3
   },
   "file_extension": ".py",
   "mimetype": "text/x-python",
   "name": "python",
   "nbconvert_exporter": "python",
   "pygments_lexer": "ipython3",
   "version": "3.12.9"
  }
 },
 "nbformat": 4,
 "nbformat_minor": 5
}
